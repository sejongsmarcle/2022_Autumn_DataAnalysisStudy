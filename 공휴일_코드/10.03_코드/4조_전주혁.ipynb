{
  "nbformat": 4,
  "nbformat_minor": 0,
  "metadata": {
    "colab": {
      "provenance": [],
      "collapsed_sections": []
    },
    "kernelspec": {
      "name": "python3",
      "display_name": "Python 3"
    },
    "language_info": {
      "name": "python"
    }
  },
  "cells": [
    {
      "cell_type": "markdown",
      "source": [
        "\n",
        "# 1번\n",
        "\n"
      ],
      "metadata": {
        "id": "DJy5EvdrDwI0"
      }
    },
    {
      "cell_type": "code",
      "execution_count": 48,
      "metadata": {
        "id": "c74CekQ6CaKB"
      },
      "outputs": [],
      "source": [
        "from bs4 import BeautifulSoup #BeautifulSoup 라이브러리 불러오기"
      ]
    },
    {
      "cell_type": "code",
      "source": [
        "#html 문서 읽기모드로 오픈\n",
        "html = open(\"css01.html\",\"r\",encoding=\"utf-8\")"
      ],
      "metadata": {
        "id": "y0WnYJJWCdJh"
      },
      "execution_count": 49,
      "outputs": []
    },
    {
      "cell_type": "code",
      "source": [
        "#파싱\n",
        "soup = BeautifulSoup(html, \"html.parser\")"
      ],
      "metadata": {
        "id": "xFGX-a_5CfYu"
      },
      "execution_count": 50,
      "outputs": []
    },
    {
      "cell_type": "code",
      "source": [
        "soup"
      ],
      "metadata": {
        "colab": {
          "base_uri": "https://localhost:8080/"
        },
        "id": "LKN25cf9DB7-",
        "outputId": "cba97ea7-7dd9-485f-e28c-154c749b8818"
      },
      "execution_count": 51,
      "outputs": [
        {
          "output_type": "execute_result",
          "data": {
            "text/plain": [
              "<html>\n",
              "<head></head>\n",
              "<body>\n",
              "<div id=\"cartoon\">\n",
              "<h1>좋아하는 만화</h1>\n",
              "<ul class=\"elements\">\n",
              "<li>피구왕 통키</li>\n",
              "<li>미래 소년 코난</li>\n",
              "<li>로보트 태권 브이</li>\n",
              "</ul>\n",
              "</div>\n",
              "<!------------------------------------------------------->\n",
              "<ul id=\"itemlist\">\n",
              "<li id=\"item1\"><a href=\"hoge.html\">피구왕 통키</a></li>\n",
              "<li id=\"item2\"><a href=\"https://www.naver.com\">그랜다이저</a></li>\n",
              "<li id=\"item3\"><a href=\"https://www.daum.net\">로보트 태권 V</a></li>\n",
              "<li id=\"item4\"><a href=\"http://www.google.com\">들장미 소녀 캔디</a></li>\n",
              "<li id=\"item5\"><a href=\"http://www.abcd.com\">똘이 장군</a></li>\n",
              "</ul>\n",
              "<!------------------------------------------------------->\n",
              "<div id=\"main-goods\">\n",
              "<h1>과일과 야채</h1>\n",
              "<ul id=\"fruits\">\n",
              "<li>감</li>\n",
              "<li>밤</li>\n",
              "<li>대추</li>\n",
              "<li>배</li>\n",
              "</ul>\n",
              "<ul id=\"vegatables\">\n",
              "<li>파프리카</li>\n",
              "<li class=\"us\">당근</li>\n",
              "<li class=\"us\">호박</li>\n",
              "<li class=\"black\" data-lo=\"us\">양파</li>\n",
              "<li class=\"cn\" id=\"ko\">가지</li>\n",
              "</ul>\n",
              "</div>\n",
              "</body>\n",
              "</html>"
            ]
          },
          "metadata": {},
          "execution_count": 51
        }
      ]
    },
    {
      "cell_type": "code",
      "source": [
        "#main goods 의 h1인 과일과 야채 선택\n",
        "title=soup.select_one(\"div#main-goods > h1\")"
      ],
      "metadata": {
        "id": "QDO3ggEqCikZ"
      },
      "execution_count": 52,
      "outputs": []
    },
    {
      "cell_type": "code",
      "source": [
        "print(\"h1 = \", title.string)"
      ],
      "metadata": {
        "colab": {
          "base_uri": "https://localhost:8080/"
        },
        "id": "LbOk41hvCj-I",
        "outputId": "2762b600-4609-43e6-8bdf-c278fc016180"
      },
      "execution_count": 53,
      "outputs": [
        {
          "output_type": "stream",
          "name": "stdout",
          "text": [
            "h1 =  과일과 야채\n"
          ]
        }
      ]
    },
    {
      "cell_type": "code",
      "source": [
        "print(soup.select(\"ul#vegatables > li[class='us']\")[0].string)\n",
        "print(soup.select(\"ul#vegatables > li[class='us']\")[1].string)"
      ],
      "metadata": {
        "colab": {
          "base_uri": "https://localhost:8080/"
        },
        "id": "3Z_igahBCmQW",
        "outputId": "4023c74a-ef1f-44d5-88a6-02805620eb83"
      },
      "execution_count": 54,
      "outputs": [
        {
          "output_type": "stream",
          "name": "stdout",
          "text": [
            "당근\n",
            "호박\n"
          ]
        }
      ]
    },
    {
      "cell_type": "markdown",
      "source": [
        "# 2번"
      ],
      "metadata": {
        "id": "jwXWbeMrDzXr"
      }
    },
    {
      "cell_type": "code",
      "source": [
        "#html 문서 읽기모드로 오픈\n",
        "html = open(\"css01.html\", \"r\", encoding=\"utf-8\")"
      ],
      "metadata": {
        "id": "CA6blvJuD0gv"
      },
      "execution_count": 55,
      "outputs": []
    },
    {
      "cell_type": "code",
      "source": [
        "#파싱\n",
        "soup = BeautifulSoup(html, \"html.parser\")"
      ],
      "metadata": {
        "id": "5Vn_OvMNFbIR"
      },
      "execution_count": 56,
      "outputs": []
    },
    {
      "cell_type": "code",
      "source": [
        "soup"
      ],
      "metadata": {
        "colab": {
          "base_uri": "https://localhost:8080/"
        },
        "id": "EEhku2eWEHoq",
        "outputId": "a498c34b-c1b1-4047-cca1-4ecfccbe230c"
      },
      "execution_count": 57,
      "outputs": [
        {
          "output_type": "execute_result",
          "data": {
            "text/plain": [
              "<html>\n",
              "<head></head>\n",
              "<body>\n",
              "<div id=\"cartoon\">\n",
              "<h1>좋아하는 만화</h1>\n",
              "<ul class=\"elements\">\n",
              "<li>피구왕 통키</li>\n",
              "<li>미래 소년 코난</li>\n",
              "<li>로보트 태권 브이</li>\n",
              "</ul>\n",
              "</div>\n",
              "<!------------------------------------------------------->\n",
              "<ul id=\"itemlist\">\n",
              "<li id=\"item1\"><a href=\"hoge.html\">피구왕 통키</a></li>\n",
              "<li id=\"item2\"><a href=\"https://www.naver.com\">그랜다이저</a></li>\n",
              "<li id=\"item3\"><a href=\"https://www.daum.net\">로보트 태권 V</a></li>\n",
              "<li id=\"item4\"><a href=\"http://www.google.com\">들장미 소녀 캔디</a></li>\n",
              "<li id=\"item5\"><a href=\"http://www.abcd.com\">똘이 장군</a></li>\n",
              "</ul>\n",
              "<!------------------------------------------------------->\n",
              "<div id=\"main-goods\">\n",
              "<h1>과일과 야채</h1>\n",
              "<ul id=\"fruits\">\n",
              "<li>감</li>\n",
              "<li>밤</li>\n",
              "<li>대추</li>\n",
              "<li>배</li>\n",
              "</ul>\n",
              "<ul id=\"vegatables\">\n",
              "<li>파프리카</li>\n",
              "<li class=\"us\">당근</li>\n",
              "<li class=\"us\">호박</li>\n",
              "<li class=\"black\" data-lo=\"us\">양파</li>\n",
              "<li class=\"cn\" id=\"ko\">가지</li>\n",
              "</ul>\n",
              "</div>\n",
              "</body>\n",
              "</html>"
            ]
          },
          "metadata": {},
          "execution_count": 57
        }
      ]
    },
    {
      "cell_type": "code",
      "source": [
        "#main goods 의 h1인 과일과 야채 선택\n",
        "title = soup.select_one(\"div#main-goods > h1 \")\n",
        "print(\"h1 =\", title.string) "
      ],
      "metadata": {
        "colab": {
          "base_uri": "https://localhost:8080/"
        },
        "id": "37s9GRw1D6HJ",
        "outputId": "dc38e936-1c99-4921-92d3-ec014f68c5a5"
      },
      "execution_count": 58,
      "outputs": [
        {
          "output_type": "stream",
          "name": "stdout",
          "text": [
            "h1 = 과일과 야채\n"
          ]
        }
      ]
    },
    {
      "cell_type": "code",
      "source": [
        "#fruits 의 li인 과일과 야채 선택\n",
        "li = soup.select(\"ul#fruits > li\") \n",
        "for i in li:\n",
        "    print(\"li =\",i.string)"
      ],
      "metadata": {
        "colab": {
          "base_uri": "https://localhost:8080/"
        },
        "id": "1NuoJ1ipD7IN",
        "outputId": "61ecf8e5-16ad-4bba-e9dd-67b24379f8c0"
      },
      "execution_count": 59,
      "outputs": [
        {
          "output_type": "stream",
          "name": "stdout",
          "text": [
            "li = 감\n",
            "li = 밤\n",
            "li = 대추\n",
            "li = 배\n"
          ]
        }
      ]
    },
    {
      "cell_type": "markdown",
      "source": [
        "# 3번"
      ],
      "metadata": {
        "id": "WONXj7tAEWbY"
      }
    },
    {
      "cell_type": "code",
      "source": [
        "from urllib.request import urlopen #urlopen 라이브러리 임포트"
      ],
      "metadata": {
        "id": "5tVM-x6zEYEb"
      },
      "execution_count": 60,
      "outputs": []
    },
    {
      "cell_type": "code",
      "source": [
        "#url 저장\n",
        "url = \"https://music.bugs.co.kr/chart/track/realtime/total\""
      ],
      "metadata": {
        "id": "0Bvl1naBEbBq"
      },
      "execution_count": 61,
      "outputs": []
    },
    {
      "cell_type": "code",
      "source": [
        "#urlopen\n",
        "response = urlopen(url)\n",
        "response"
      ],
      "metadata": {
        "colab": {
          "base_uri": "https://localhost:8080/"
        },
        "id": "fmHwwZRBEcdV",
        "outputId": "5cce0ab5-21d7-408d-fd1d-c34ecf6f507d"
      },
      "execution_count": 62,
      "outputs": [
        {
          "output_type": "execute_result",
          "data": {
            "text/plain": [
              "<http.client.HTTPResponse at 0x7f5189b24b50>"
            ]
          },
          "metadata": {},
          "execution_count": 62
        }
      ]
    },
    {
      "cell_type": "code",
      "source": [
        "#파싱\n",
        "soup = BeautifulSoup(response, 'html.parser')"
      ],
      "metadata": {
        "id": "2ULx7POQEeks"
      },
      "execution_count": 63,
      "outputs": []
    },
    {
      "cell_type": "code",
      "source": [
        "#class가 title인 데이터 불러오기\n",
        "tags = soup.findAll('p', attrs={'class':'title'})\n",
        "i = 1\n",
        "for t in tags:\n",
        "    print('%d위: %s' %(i,t.a.string)) \n",
        "    i+=1"
      ],
      "metadata": {
        "colab": {
          "base_uri": "https://localhost:8080/"
        },
        "id": "cazRgg2WEgJg",
        "outputId": "6c2d0bd9-7eff-43b4-d1f6-dfc2c1699cec"
      },
      "execution_count": 64,
      "outputs": [
        {
          "output_type": "stream",
          "name": "stdout",
          "text": [
            "1위: CASE 143\n",
            "2위: Give Me Your TMI\n",
            "3위: 식혀\n",
            "4위: 나 너 좋아하나봐 (승민, 아이엔)\n",
            "5위: TASTE (리노, 현진, 필릭스)\n",
            "6위: SUPER BOARD\n",
            "7위: 3RACHA (방찬, 창빈, 한)\n",
            "8위: CIRCUS (Korean Ver.)\n",
            "9위: HELLO\n",
            "10위: 고마워 (THANK YOU) (ASAHI x HARUTO Unit)\n",
            "11위: CLAP!\n",
            "12위: 묻어둔다 (HOLD IT IN)\n",
            "13위: VolKno (CHOI HYUN SUK x YOSHI x HARUTO Unit)\n",
            "14위: Hype Boy\n",
            "15위: 새삥 (Prod. ZICO) (Feat. 호미들)\n",
            "16위: After LIKE\n",
            "17위: Shut Down\n",
            "18위: Attention\n",
            "19위: Rush Hour (Feat. j-hope of BTS)\n",
            "20위: Pink Venom\n",
            "21위: LOVE DIVE\n",
            "22위: 자격지심 (Feat. ZICO)\n",
            "23위: 우린 그렇게 사랑해서\n",
            "24위: I Don’t Think That I Like Her\n",
            "25위: Monologue\n",
            "26위: 딱 10CM만\n",
            "27위: 호랑이가 쫓아온다 (Uh-Heung)\n",
            "28위: Cookie\n",
            "29위: 사건의 지평선\n",
            "30위: 28 Reasons\n",
            "31위: FEARLESS\n",
            "32위: DICE\n",
            "33위: 도깨비불 (Illusion)\n",
            "34위: 드라마\n",
            "35위: Loser\n",
            "36위: TOMBOY\n",
            "37위: LAW (Prod. Czaer)\n",
            "38위: That's Hilarious\n",
            "39위: I Ain't Worried\n",
            "40위: ELEVEN\n",
            "41위: 그라데이션\n",
            "42위: 정이라고 하자 (Feat. 10CM)\n",
            "43위: 뜨거운 여름밤은 가고 남은 건 볼품없지만\n",
            "44위: 사랑하긴 했었나요 스쳐가는 인연이었나요 짧지않은 우리 함께했던 시간들이 자꾸 내 마음을 가둬두네\n",
            "45위: Talk that Talk\n",
            "46위: Cape\n",
            "47위: FOREVER 1\n",
            "48위: SNEAKERS\n",
            "49위: 보고싶었어\n",
            "50위: 그때 그 순간 그대로 (그그그)\n",
            "51위: 내가 아니라도\n",
            "52위: Feel My Rhythm\n",
            "53위: 사랑도둑 (Cupid)\n",
            "54위: 사랑인가 봐\n",
            "55위: Left and Right (Feat. Jung Kook of BTS)\n",
            "56위: 아름답던 별들의 밤\n",
            "57위: 봄여름가을겨울 (Still Life)\n",
            "58위: strawberry moon\n",
            "59위: MY BAG\n",
            "60위: 내 기쁨은 너가 벤틀리를 끄는 거야\n",
            "61위: 통화연결음\n",
            "62위: 나의 X에게\n",
            "63위: 해요 (2022)\n",
            "64위: 못된 송아지 엉덩이에 뿔 (CRAZY NIGHT)\n",
            "65위: 주저하는 연인들을 위해\n",
            "66위: Dangerously\n",
            "67위: 너의 모든 순간\n",
            "68위: 다정히 내 이름을 부르면\n",
            "69위: 열이올라요 (Heart Burn)\n",
            "70위: Ready For Love\n",
            "71위: POP!\n",
            "72위: Love story\n",
            "73위: 취중고백\n",
            "74위: LOVE me\n",
            "75위: 못해\n",
            "76위: 사랑은 늘 도망가\n",
            "77위: 매일 멀어지는 사이\n",
            "78위: Girls\n",
            "79위: 스물다섯, 스물하나\n",
            "80위: 새벽에 걸려온 너의 전화는\n",
            "81위: Hurt\n",
            "82위: 사랑한다고 말해줘\n",
            "83위: 모든 날, 모든 순간 (Every day, Every Moment)\n",
            "84위: Charlie Be Quiet!\n",
            "85위: STAY\n",
            "86위: 팡파레\n",
            "87위: Next Level\n",
            "88위: SMILEY (Feat. BIBI)\n",
            "89위: 비도 오고 그래서 (Feat. 신용재)\n",
            "90위: Somebody!\n",
            "91위: INVU\n",
            "92위: 신호등\n",
            "93위: 질주 (2 Baddies)\n",
            "94위: Off My Face\n",
            "95위: Yeah Yeah Yeah\n",
            "96위: I LOVE U\n",
            "97위: LUPIN\n",
            "98위: Celebrity\n",
            "99위: That That (prod. & feat. SUGA of BTS)\n",
            "100위: 스티커 사진\n"
          ]
        }
      ]
    }
  ]
}